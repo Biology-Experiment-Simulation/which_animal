{
 "cells": [
  {
   "cell_type": "markdown",
   "metadata": {},
   "source": [
    "## Data cleaning for cat data continued\n",
    "### Goals\n",
    "- Find peaks/useful sound slice regions for cat data (by detecting relatively sielnt regions)\n",
    "- Test and finalize snippets fo be used in signal_slice.py\n",
    "- Estimate the useful signal duration in second (by tag and total)\n",
    "\n",
    "### Results\n",
    "- Determined cut-off threshold: 4% of signal density defined by signal amplitude squared divided by total duration (units in frames) of the sound file.\n",
    "- Finalized snippets to be used in signal_slice.py (determining signal slicing indicies then appending to a dataframe)\n",
    "- Using 4% signal density threshold, minimum useful sound duration was determined:\n",
    "     - about 318 s for pure meow sound\n",
    "     - about 200 s for pure purr sound\n",
    "     - about 333 s for meow and purr mix sound\n",
    "     - about 46 s for sounds other than meow or purr\n",
    "     - at least 896 s for total usable cat sound \n",
    "     \n",
    "[Note] This uses cat data example, but the same approach can be used for dog data as well.   \n",
    "I tested dog data to see if it needs different threshold. It seems the same 4% threshold also works well for slicing dog data."
   ]
  },
  {
   "cell_type": "code",
   "execution_count": 179,
   "metadata": {
    "collapsed": false
   },
   "outputs": [],
   "source": [
    "from __future__ import division\n",
    "import cPickle as pickle\n",
    "import pandas as pd\n",
    "import numpy as np\n",
    "import librosa\n",
    "from itertools import compress\n",
    "import matplotlib.pyplot as plt\n",
    "%matplotlib inline\n",
    "import thinkdsp\n",
    "import thinkplot\n",
    "from itertools import compress\n",
    "import os\n",
    "from collections import Counter"
   ]
  },
  {
   "cell_type": "code",
   "execution_count": 2,
   "metadata": {
    "collapsed": true
   },
   "outputs": [],
   "source": [
    "with open('cat_inspect_df.pkl') as f:\n",
    "    df = pickle.load(f)"
   ]
  },
  {
   "cell_type": "code",
   "execution_count": 85,
   "metadata": {
    "collapsed": true
   },
   "outputs": [],
   "source": [
    "def signalplot(filename,start=0,end=None): #start and end time in second\n",
    "    y, sr = librosa.load(filename)\n",
    "    t = np.arange(len(y))/sr\n",
    "    i = int(round(start * sr))\n",
    "    if end != None:\n",
    "        j = int(round(end * sr))\n",
    "    else:\n",
    "        j = len(y)    \n",
    "    plt.plot(t[i:j],y[i:j]);\n",
    "\n",
    "def findpeak(y,sr): \n",
    "    hop = int(round(sr*1)) #hop and width defines search window\n",
    "    width = sr*1 \n",
    "    n_slice = int(len(y)/hop)\n",
    "    starts = np.arange(n_slice)*hop\n",
    "    ends = starts+width\n",
    "\n",
    "    if hop != width:\n",
    "        cutoff = np.argmax(ends>len(y))\n",
    "        starts = starts[:cutoff]\n",
    "        ends = ends[:cutoff]\n",
    "        n_slice = len(starts)\n",
    "    mask = map(lambda i: np.dot(y[starts[i]:ends[i]],y[starts[i]:ends[i]])/width, range(n_slice)) > np.dot(y,y)/len(y)\n",
    "    starts =  list(compress(starts,mask))\n",
    "    ends = list(compress(ends,mask))\n",
    "    peaks = map(lambda i: starts[i]+np.argmax(y[starts[i]:ends[i]]), range(len(starts)))\n",
    "    starts = np.array(peaks)-int(width/2)\n",
    "    ends = starts+width\n",
    "    return zip(starts,ends)\n"
   ]
  },
  {
   "cell_type": "code",
   "execution_count": 5,
   "metadata": {
    "collapsed": true
   },
   "outputs": [],
   "source": [
    "df = df[df['discard']==False]"
   ]
  },
  {
   "cell_type": "code",
   "execution_count": 10,
   "metadata": {
    "collapsed": false
   },
   "outputs": [
    {
     "name": "stdout",
     "output_type": "stream",
     "text": [
      "25\n",
      "3.0\n"
     ]
    }
   ],
   "source": [
    "clean_meow = df[(df['meow']==True)&(df['purr']==False)&(df['background']==False)&(df['other']==False)]\n",
    "print len(clean_meow)\n",
    "print clean_meow['duration'].median()"
   ]
  },
  {
   "cell_type": "code",
   "execution_count": 17,
   "metadata": {
    "collapsed": false
   },
   "outputs": [
    {
     "name": "stdout",
     "output_type": "stream",
     "text": [
      "4\n",
      "23.066122449\n"
     ]
    }
   ],
   "source": [
    "clean_purr = df[(df['meow']==False)&(df['purr']==True)&(df['background']==False)&(df['other']==False)]\n",
    "print len(clean_purr)\n",
    "print clean_purr['duration'].median()"
   ]
  },
  {
   "cell_type": "code",
   "execution_count": 450,
   "metadata": {
    "collapsed": false
   },
   "outputs": [],
   "source": [
    "def findsilence(y,sr,ind_i): \n",
    "    hop = int(round(sr*0.2)) #hop and width defines search window\n",
    "    width = sr*0.2 \n",
    "    n_slice = int(len(y)/hop)\n",
    "    starts = np.arange(n_slice)*hop\n",
    "    ends = starts+width\n",
    "    if hop != width:\n",
    "        cutoff = np.argmax(ends>len(y))\n",
    "        starts = starts[:cutoff]\n",
    "        ends = ends[:cutoff]\n",
    "        n_slice = len(starts)\n",
    "    mask = map(lambda i: np.dot(y[starts[i]:ends[i]],y[starts[i]:ends[i]])/width, range(n_slice)) < 0.04 * np.dot(y,y)/len(y)\n",
    "    starts =  list(compress(starts+ind_i,mask))\n",
    "    ends = list(compress(ends+ind_i,mask))\n",
    "    #silence = map(lambda i: starts[i]+np.argmax(y[starts[i]:ends[i]]), range(len(starts)))\n",
    "    #starts = np.array(peaks)-int(width/2)\n",
    "    #ends = starts+width\n",
    "    return zip(starts,ends)\n",
    "\n",
    "def shade_silence(filename,start=0,end=None,disp=True,output=False, itr=''): #start and end time in second\n",
    "    try:\n",
    "        y, sr = librosa.load(filename)\n",
    "    except:\n",
    "        obj = thinkdsp.read_wave(filename)\n",
    "        y = obj.ys\n",
    "        sr = obj.framerate\n",
    "        print itr, ' : librosa.load failed for '+filename\n",
    " \n",
    "    t = np.arange(len(y))/sr\n",
    "\n",
    "    i = int(round(start * sr))\n",
    "    if end != None:\n",
    "        j = int(round(end * sr))\n",
    "    else:\n",
    "        j = len(y)  \n",
    "    fills = findsilence(y[i:j],sr,i) \n",
    "    if disp:\n",
    "        fig, ax = plt.subplots()   \n",
    "        ax.set_title(filename)\n",
    "        ax.plot(t[i:j],y[i:j])\n",
    "    if fills != None:\n",
    "        shades = map(lambda x: (max(x[0],i),min(x[1],j)), fills)\n",
    "        if len(shades)>0:\n",
    "            shades = merger(shades)    \n",
    "            if disp:\n",
    "                for s in shades:\n",
    "                    ax.axvspan(s[0]/sr, s[1]/sr, alpha=0.5, color='red')      \n",
    "    if len(shades)>1:\n",
    "        live = map(lambda i: (shades[i][1],shades[i+1][0]),xrange(len(shades)-1))\n",
    "    elif len(shades)==1:\n",
    "        a = [i,shades[0][0],shades[0][1],j]\n",
    "        live = filter(lambda x: x != None, map(lambda x: tuple(x) if x[0]!=x[1] else None,np.sort(a).reshape((int(len(a)/2),2))))\n",
    "    else:\n",
    "        live = [(i,j)]\n",
    "    if output:\n",
    "        return live, sr, len(y)\n",
    "    \n",
    "def merger(tulist):\n",
    "    tu=()\n",
    "    for tt in tulist:\n",
    "         tu += tt\n",
    "    cnt = Counter(tu)\n",
    "    res = filter(lambda x: cnt[x]<2, tu)\n",
    "    return map(lambda x: tuple(x),np.array(res).reshape((len(res)/2,2)))  \n",
    "\n",
    "def post2df(df):\n",
    "    active=[]\n",
    "    srs=[]\n",
    "    dur=[]\n",
    "    i=0\n",
    "    for fn in df['filename']:\n",
    "        tlist, sr , leng = shade_silence(directory+'/'+fn, disp=False, output=True, itr=i)\n",
    "        active.append(tlist)\n",
    "        srs.append(sr)\n",
    "        dur.append(leng/sr)\n",
    "        i+=1   \n",
    "    return active, srs, dur        "
   ]
  },
  {
   "cell_type": "code",
   "execution_count": 339,
   "metadata": {
    "collapsed": false
   },
   "outputs": [
    {
     "name": "stderr",
     "output_type": "stream",
     "text": [
      "/usr/local/lib/python2.7/dist-packages/ipykernel/__main__.py:12: VisibleDeprecationWarning: using a non-integer number instead of an integer will result in an error in the future\n",
      "/usr/local/lib/python2.7/dist-packages/ipykernel/__main__.py:61: VisibleDeprecationWarning: using a non-integer number instead of an integer will result in an error in the future\n"
     ]
    },
    {
     "data": {
      "image/png": "[encoded data removed]",
      "text/plain": [
       "<matplotlib.figure.Figure at 0x7f2a0783e2d0>"
      ]
     },
     "metadata": {},
     "output_type": "display_data"
    }
   ],
   "source": [
    "shade_silence(directory+'/'+clean_meow['filename'].iloc[5])"
   ]
  },
  {
   "cell_type": "code",
   "execution_count": 321,
   "metadata": {
    "collapsed": false
   },
   "outputs": [
    {
     "name": "stderr",
     "output_type": "stream",
     "text": [
      "/usr/local/lib/python2.7/dist-packages/ipykernel/__main__.py:12: VisibleDeprecationWarning: using a non-integer number instead of an integer will result in an error in the future\n",
      "/usr/local/lib/python2.7/dist-packages/ipykernel/__main__.py:57: VisibleDeprecationWarning: using a non-integer number instead of an integer will result in an error in the future\n"
     ]
    },
    {
     "data": {
      "image/png": "[encoded data removed]",
      "text/plain": [
       "<matplotlib.figure.Figure at 0x7f2a073f9990>"
      ]
     },
     "metadata": {},
     "output_type": "display_data"
    }
   ],
   "source": [
    "shade_silence(directory+'/'+clean_meow['filename'].iloc[2])"
   ]
  },
  {
   "cell_type": "markdown",
   "metadata": {},
   "source": [
    "### Outputs from for loops below were cleared to reduce the notebook size. Run again if needed."
   ]
  },
  {
   "cell_type": "code",
   "execution_count": null,
   "metadata": {
    "collapsed": false,
    "scrolled": true
   },
   "outputs": [],
   "source": [
    "for fn in clean_meow['filename']:\n",
    "    shade_silence(directory+'/'+fn)"
   ]
  },
  {
   "cell_type": "code",
   "execution_count": null,
   "metadata": {
    "collapsed": false,
    "scrolled": true
   },
   "outputs": [],
   "source": [
    "for fn in clean_purr['filename']:\n",
    "    shade_silence(directory+'/'+fn)"
   ]
  },
  {
   "cell_type": "code",
   "execution_count": null,
   "metadata": {
    "collapsed": false,
    "scrolled": true
   },
   "outputs": [],
   "source": [
    "for fn in meow_purr_mix['filename']:\n",
    "    shade_silence(directory+'/'+fn)"
   ]
  },
  {
   "cell_type": "markdown",
   "metadata": {},
   "source": [
    "## [Do Not Run Cells Below]\n",
    "### The codes below are to append slicing indices and other info\n",
    "#### [Caution] function post2df has been changed since, so it will not run properly for some of codes below."
   ]
  },
  {
   "cell_type": "code",
   "execution_count": 387,
   "metadata": {
    "collapsed": false,
    "scrolled": false
   },
   "outputs": [
    {
     "name": "stdout",
     "output_type": "stream",
     "text": [
      "45  : librosa.load failed for ../data/cat_consolidated/meow_fs_26.wav\n",
      "47  : librosa.load failed for ../data/cat_consolidated/meow_fs_29.wav\n",
      "56  : librosa.load failed for ../data/cat_consolidated/meow_fs_4.wav\n",
      "74  : librosa.load failed for ../data/cat_consolidated/meow_fs_8.wav\n"
     ]
    },
    {
     "name": "stderr",
     "output_type": "stream",
     "text": [
      "/usr/local/lib/python2.7/dist-packages/ipykernel/__main__.py:12: VisibleDeprecationWarning: using a non-integer number instead of an integer will result in an error in the future\n",
      "/usr/local/lib/python2.7/dist-packages/ipykernel/__main__.py:64: VisibleDeprecationWarning: using a non-integer number instead of an integer will result in an error in the future\n"
     ]
    }
   ],
   "source": [
    "df['active_region'], df['sr'] = post2df(df)"
   ]
  },
  {
   "cell_type": "code",
   "execution_count": 388,
   "metadata": {
    "collapsed": false
   },
   "outputs": [
    {
     "data": {
      "text/html": [
       "<div>\n",
       "<table border=\"1\" class=\"dataframe\">\n",
       "  <thead>\n",
       "    <tr style=\"text-align: right;\">\n",
       "      <th></th>\n",
       "      <th>filename</th>\n",
       "      <th>meow</th>\n",
       "      <th>purr</th>\n",
       "      <th>hiss</th>\n",
       "      <th>other</th>\n",
       "      <th>background</th>\n",
       "      <th>discard</th>\n",
       "      <th>duration</th>\n",
       "      <th>active_region</th>\n",
       "      <th>sr</th>\n",
       "    </tr>\n",
       "  </thead>\n",
       "  <tbody>\n",
       "    <tr>\n",
       "      <th>0</th>\n",
       "      <td>cat_ts_1.wav</td>\n",
       "      <td>True</td>\n",
       "      <td>False</td>\n",
       "      <td>False</td>\n",
       "      <td>False</td>\n",
       "      <td>True</td>\n",
       "      <td>False</td>\n",
       "      <td>17.475918</td>\n",
       "      <td>[(17640.0, 30870.0), (39690.0, 52920.0), (5733...</td>\n",
       "      <td>22050</td>\n",
       "    </tr>\n",
       "    <tr>\n",
       "      <th>1</th>\n",
       "      <td>cat_ts_10.wav</td>\n",
       "      <td>False</td>\n",
       "      <td>True</td>\n",
       "      <td>False</td>\n",
       "      <td>False</td>\n",
       "      <td>True</td>\n",
       "      <td>False</td>\n",
       "      <td>28.995918</td>\n",
       "      <td>[(8820.0, 639360.0)]</td>\n",
       "      <td>22050</td>\n",
       "    </tr>\n",
       "    <tr>\n",
       "      <th>2</th>\n",
       "      <td>cat_ts_11.wav</td>\n",
       "      <td>True</td>\n",
       "      <td>True</td>\n",
       "      <td>False</td>\n",
       "      <td>False</td>\n",
       "      <td>False</td>\n",
       "      <td>False</td>\n",
       "      <td>25.077551</td>\n",
       "      <td>[(13230.0, 26460.0), (61740.0, 79380.0), (9702...</td>\n",
       "      <td>22050</td>\n",
       "    </tr>\n",
       "    <tr>\n",
       "      <th>3</th>\n",
       "      <td>cat_ts_12.wav</td>\n",
       "      <td>False</td>\n",
       "      <td>True</td>\n",
       "      <td>False</td>\n",
       "      <td>False</td>\n",
       "      <td>False</td>\n",
       "      <td>False</td>\n",
       "      <td>23.797551</td>\n",
       "      <td>[(4410.0, 524736.0)]</td>\n",
       "      <td>22050</td>\n",
       "    </tr>\n",
       "    <tr>\n",
       "      <th>4</th>\n",
       "      <td>cat_ts_13.wav</td>\n",
       "      <td>False</td>\n",
       "      <td>True</td>\n",
       "      <td>False</td>\n",
       "      <td>False</td>\n",
       "      <td>False</td>\n",
       "      <td>False</td>\n",
       "      <td>22.334694</td>\n",
       "      <td>[(0.0, 485100.0), (489510.0, 492480.0)]</td>\n",
       "      <td>22050</td>\n",
       "    </tr>\n",
       "  </tbody>\n",
       "</table>\n",
       "</div>"
      ],
      "text/plain": [
       "        filename   meow   purr   hiss  other background discard   duration  \\\n",
       "0   cat_ts_1.wav   True  False  False  False       True   False  17.475918   \n",
       "1  cat_ts_10.wav  False   True  False  False       True   False  28.995918   \n",
       "2  cat_ts_11.wav   True   True  False  False      False   False  25.077551   \n",
       "3  cat_ts_12.wav  False   True  False  False      False   False  23.797551   \n",
       "4  cat_ts_13.wav  False   True  False  False      False   False  22.334694   \n",
       "\n",
       "                                       active_region     sr  \n",
       "0  [(17640.0, 30870.0), (39690.0, 52920.0), (5733...  22050  \n",
       "1                               [(8820.0, 639360.0)]  22050  \n",
       "2  [(13230.0, 26460.0), (61740.0, 79380.0), (9702...  22050  \n",
       "3                               [(4410.0, 524736.0)]  22050  \n",
       "4            [(0.0, 485100.0), (489510.0, 492480.0)]  22050  "
      ]
     },
     "execution_count": 388,
     "metadata": {},
     "output_type": "execute_result"
    }
   ],
   "source": [
    "df.head()"
   ]
  },
  {
   "cell_type": "code",
   "execution_count": 389,
   "metadata": {
    "collapsed": false
   },
   "outputs": [
    {
     "data": {
      "text/html": [
       "<div>\n",
       "<table border=\"1\" class=\"dataframe\">\n",
       "  <thead>\n",
       "    <tr style=\"text-align: right;\">\n",
       "      <th></th>\n",
       "      <th>filename</th>\n",
       "      <th>meow</th>\n",
       "      <th>purr</th>\n",
       "      <th>hiss</th>\n",
       "      <th>other</th>\n",
       "      <th>background</th>\n",
       "      <th>discard</th>\n",
       "      <th>duration</th>\n",
       "      <th>active_region</th>\n",
       "      <th>sr</th>\n",
       "    </tr>\n",
       "  </thead>\n",
       "  <tbody>\n",
       "    <tr>\n",
       "      <th>62</th>\n",
       "      <td>meow_fs_26.wav</td>\n",
       "      <td>True</td>\n",
       "      <td>False</td>\n",
       "      <td>False</td>\n",
       "      <td>False</td>\n",
       "      <td>True</td>\n",
       "      <td>False</td>\n",
       "      <td>16.436438</td>\n",
       "      <td>[(67200.0, 115200.0), (268800.0, 307200.0), (4...</td>\n",
       "      <td>48000</td>\n",
       "    </tr>\n",
       "    <tr>\n",
       "      <th>64</th>\n",
       "      <td>meow_fs_29.wav</td>\n",
       "      <td>True</td>\n",
       "      <td>False</td>\n",
       "      <td>False</td>\n",
       "      <td>False</td>\n",
       "      <td>True</td>\n",
       "      <td>False</td>\n",
       "      <td>1.811313</td>\n",
       "      <td>[(9600.0, 76800.0)]</td>\n",
       "      <td>48000</td>\n",
       "    </tr>\n",
       "    <tr>\n",
       "      <th>73</th>\n",
       "      <td>meow_fs_4.wav</td>\n",
       "      <td>True</td>\n",
       "      <td>False</td>\n",
       "      <td>False</td>\n",
       "      <td>False</td>\n",
       "      <td>True</td>\n",
       "      <td>False</td>\n",
       "      <td>1.637292</td>\n",
       "      <td>[(28800.0, 67200.0)]</td>\n",
       "      <td>48000</td>\n",
       "    </tr>\n",
       "    <tr>\n",
       "      <th>96</th>\n",
       "      <td>meow_fs_8.wav</td>\n",
       "      <td>True</td>\n",
       "      <td>False</td>\n",
       "      <td>False</td>\n",
       "      <td>False</td>\n",
       "      <td>False</td>\n",
       "      <td>False</td>\n",
       "      <td>1.201208</td>\n",
       "      <td>[(0, 57658)]</td>\n",
       "      <td>48000</td>\n",
       "    </tr>\n",
       "  </tbody>\n",
       "</table>\n",
       "</div>"
      ],
      "text/plain": [
       "          filename  meow   purr   hiss  other background discard   duration  \\\n",
       "62  meow_fs_26.wav  True  False  False  False       True   False  16.436438   \n",
       "64  meow_fs_29.wav  True  False  False  False       True   False   1.811313   \n",
       "73   meow_fs_4.wav  True  False  False  False       True   False   1.637292   \n",
       "96   meow_fs_8.wav  True  False  False  False      False   False   1.201208   \n",
       "\n",
       "                                        active_region     sr  \n",
       "62  [(67200.0, 115200.0), (268800.0, 307200.0), (4...  48000  \n",
       "64                                [(9600.0, 76800.0)]  48000  \n",
       "73                               [(28800.0, 67200.0)]  48000  \n",
       "96                                       [(0, 57658)]  48000  "
      ]
     },
     "execution_count": 389,
     "metadata": {},
     "output_type": "execute_result"
    }
   ],
   "source": [
    "df.iloc[[45,47,56,74]]"
   ]
  },
  {
   "cell_type": "code",
   "execution_count": 418,
   "metadata": {
    "collapsed": false
   },
   "outputs": [],
   "source": [
    "df['sig_len'] = df['active_region'].apply(lambda y: np.array(map(lambda x: x[1]-x[0],y)))/df['sr']\n",
    "df['num_sig'] = df['sig_len'].apply(lambda x: len(x))\n",
    "df['sig_len_sum'] = df['sig_len'].apply(lambda x: sum(x))"
   ]
  },
  {
   "cell_type": "code",
   "execution_count": 419,
   "metadata": {
    "collapsed": false
   },
   "outputs": [
    {
     "data": {
      "text/html": [
       "<div>\n",
       "<table border=\"1\" class=\"dataframe\">\n",
       "  <thead>\n",
       "    <tr style=\"text-align: right;\">\n",
       "      <th></th>\n",
       "      <th>filename</th>\n",
       "      <th>meow</th>\n",
       "      <th>purr</th>\n",
       "      <th>hiss</th>\n",
       "      <th>other</th>\n",
       "      <th>background</th>\n",
       "      <th>discard</th>\n",
       "      <th>duration</th>\n",
       "      <th>active_region</th>\n",
       "      <th>sr</th>\n",
       "      <th>sig_len</th>\n",
       "      <th>num_sig</th>\n",
       "      <th>sig_len_sum</th>\n",
       "    </tr>\n",
       "  </thead>\n",
       "  <tbody>\n",
       "    <tr>\n",
       "      <th>0</th>\n",
       "      <td>cat_ts_1.wav</td>\n",
       "      <td>True</td>\n",
       "      <td>False</td>\n",
       "      <td>False</td>\n",
       "      <td>False</td>\n",
       "      <td>True</td>\n",
       "      <td>False</td>\n",
       "      <td>17.475918</td>\n",
       "      <td>[(17640.0, 30870.0), (39690.0, 52920.0), (5733...</td>\n",
       "      <td>22050</td>\n",
       "      <td>[0.6, 0.6, 0.8, 0.6, 0.6, 0.6, 1.0, 0.6, 0.8, ...</td>\n",
       "      <td>14</td>\n",
       "      <td>9.600000</td>\n",
       "    </tr>\n",
       "    <tr>\n",
       "      <th>1</th>\n",
       "      <td>cat_ts_10.wav</td>\n",
       "      <td>False</td>\n",
       "      <td>True</td>\n",
       "      <td>False</td>\n",
       "      <td>False</td>\n",
       "      <td>True</td>\n",
       "      <td>False</td>\n",
       "      <td>28.995918</td>\n",
       "      <td>[(8820.0, 639360.0)]</td>\n",
       "      <td>22050</td>\n",
       "      <td>[28.5959183673]</td>\n",
       "      <td>1</td>\n",
       "      <td>28.595918</td>\n",
       "    </tr>\n",
       "    <tr>\n",
       "      <th>2</th>\n",
       "      <td>cat_ts_11.wav</td>\n",
       "      <td>True</td>\n",
       "      <td>True</td>\n",
       "      <td>False</td>\n",
       "      <td>False</td>\n",
       "      <td>False</td>\n",
       "      <td>False</td>\n",
       "      <td>25.077551</td>\n",
       "      <td>[(13230.0, 26460.0), (61740.0, 79380.0), (9702...</td>\n",
       "      <td>22050</td>\n",
       "      <td>[0.6, 0.8, 1.2, 1.0, 6.2, 1.0, 0.2, 0.8, 0.8, ...</td>\n",
       "      <td>12</td>\n",
       "      <td>16.400000</td>\n",
       "    </tr>\n",
       "    <tr>\n",
       "      <th>3</th>\n",
       "      <td>cat_ts_12.wav</td>\n",
       "      <td>False</td>\n",
       "      <td>True</td>\n",
       "      <td>False</td>\n",
       "      <td>False</td>\n",
       "      <td>False</td>\n",
       "      <td>False</td>\n",
       "      <td>23.797551</td>\n",
       "      <td>[(4410.0, 524736.0)]</td>\n",
       "      <td>22050</td>\n",
       "      <td>[23.5975510204]</td>\n",
       "      <td>1</td>\n",
       "      <td>23.597551</td>\n",
       "    </tr>\n",
       "    <tr>\n",
       "      <th>4</th>\n",
       "      <td>cat_ts_13.wav</td>\n",
       "      <td>False</td>\n",
       "      <td>True</td>\n",
       "      <td>False</td>\n",
       "      <td>False</td>\n",
       "      <td>False</td>\n",
       "      <td>False</td>\n",
       "      <td>22.334694</td>\n",
       "      <td>[(0.0, 485100.0), (489510.0, 492480.0)]</td>\n",
       "      <td>22050</td>\n",
       "      <td>[22.0, 0.134693877551]</td>\n",
       "      <td>2</td>\n",
       "      <td>22.134694</td>\n",
       "    </tr>\n",
       "  </tbody>\n",
       "</table>\n",
       "</div>"
      ],
      "text/plain": [
       "        filename   meow   purr   hiss  other background discard   duration  \\\n",
       "0   cat_ts_1.wav   True  False  False  False       True   False  17.475918   \n",
       "1  cat_ts_10.wav  False   True  False  False       True   False  28.995918   \n",
       "2  cat_ts_11.wav   True   True  False  False      False   False  25.077551   \n",
       "3  cat_ts_12.wav  False   True  False  False      False   False  23.797551   \n",
       "4  cat_ts_13.wav  False   True  False  False      False   False  22.334694   \n",
       "\n",
       "                                       active_region     sr  \\\n",
       "0  [(17640.0, 30870.0), (39690.0, 52920.0), (5733...  22050   \n",
       "1                               [(8820.0, 639360.0)]  22050   \n",
       "2  [(13230.0, 26460.0), (61740.0, 79380.0), (9702...  22050   \n",
       "3                               [(4410.0, 524736.0)]  22050   \n",
       "4            [(0.0, 485100.0), (489510.0, 492480.0)]  22050   \n",
       "\n",
       "                                             sig_len  num_sig  sig_len_sum  \n",
       "0  [0.6, 0.6, 0.8, 0.6, 0.6, 0.6, 1.0, 0.6, 0.8, ...       14     9.600000  \n",
       "1                                    [28.5959183673]        1    28.595918  \n",
       "2  [0.6, 0.8, 1.2, 1.0, 6.2, 1.0, 0.2, 0.8, 0.8, ...       12    16.400000  \n",
       "3                                    [23.5975510204]        1    23.597551  \n",
       "4                             [22.0, 0.134693877551]        2    22.134694  "
      ]
     },
     "execution_count": 419,
     "metadata": {},
     "output_type": "execute_result"
    }
   ],
   "source": [
    "df.head()"
   ]
  },
  {
   "cell_type": "code",
   "execution_count": 423,
   "metadata": {
    "collapsed": false
   },
   "outputs": [],
   "source": [
    "meow_no_purr = df[(df['meow']==True)&(df['purr']==False)&(df['sig_len_sum']>0.5)]"
   ]
  },
  {
   "cell_type": "code",
   "execution_count": 424,
   "metadata": {
    "collapsed": false
   },
   "outputs": [
    {
     "data": {
      "text/plain": [
       "306.33118565759634"
      ]
     },
     "execution_count": 424,
     "metadata": {},
     "output_type": "execute_result"
    }
   ],
   "source": [
    "meow_no_purr['sig_len_sum'].sum()"
   ]
  },
  {
   "cell_type": "code",
   "execution_count": 425,
   "metadata": {
    "collapsed": false
   },
   "outputs": [
    {
     "data": {
      "text/plain": [
       "237"
      ]
     },
     "execution_count": 425,
     "metadata": {},
     "output_type": "execute_result"
    }
   ],
   "source": [
    "meow_no_purr['num_sig'].sum()"
   ]
  },
  {
   "cell_type": "code",
   "execution_count": 426,
   "metadata": {
    "collapsed": true
   },
   "outputs": [],
   "source": [
    "clean_meow =  df[(df['meow']==True)&(df['purr']==False)&(df['background']==False)&(df['other']==False)&(df['sig_len_sum']>0.5)]"
   ]
  },
  {
   "cell_type": "code",
   "execution_count": 427,
   "metadata": {
    "collapsed": false
   },
   "outputs": [
    {
     "name": "stdout",
     "output_type": "stream",
     "text": [
      "23\n",
      "111.730278628\n",
      "88\n"
     ]
    }
   ],
   "source": [
    "print len(clean_meow)\n",
    "print clean_meow['sig_len_sum'].sum()\n",
    "print clean_meow['num_sig'].sum()"
   ]
  },
  {
   "cell_type": "code",
   "execution_count": 428,
   "metadata": {
    "collapsed": true
   },
   "outputs": [],
   "source": [
    "with open('cat_slice_df.pkl','w') as f:\n",
    "    pickle.dump(df,f)"
   ]
  },
  {
   "cell_type": "code",
   "execution_count": 432,
   "metadata": {
    "collapsed": false
   },
   "outputs": [],
   "source": [
    "more=[68,69,70,71]\n",
    "names = map(lambda m:'meow_fs_'+str(m)+'.wav', more)"
   ]
  },
  {
   "cell_type": "code",
   "execution_count": 441,
   "metadata": {
    "collapsed": false
   },
   "outputs": [],
   "source": [
    "df2 = pd.DataFrame(columns = df.columns.values)"
   ]
  },
  {
   "cell_type": "code",
   "execution_count": 443,
   "metadata": {
    "collapsed": false
   },
   "outputs": [],
   "source": [
    "df2['filename']=names"
   ]
  },
  {
   "cell_type": "code",
   "execution_count": 444,
   "metadata": {
    "collapsed": false
   },
   "outputs": [
    {
     "data": {
      "text/html": [
       "<div>\n",
       "<table border=\"1\" class=\"dataframe\">\n",
       "  <thead>\n",
       "    <tr style=\"text-align: right;\">\n",
       "      <th></th>\n",
       "      <th>filename</th>\n",
       "      <th>meow</th>\n",
       "      <th>purr</th>\n",
       "      <th>hiss</th>\n",
       "      <th>other</th>\n",
       "      <th>background</th>\n",
       "      <th>discard</th>\n",
       "      <th>duration</th>\n",
       "      <th>active_region</th>\n",
       "      <th>sr</th>\n",
       "      <th>sig_len</th>\n",
       "      <th>num_sig</th>\n",
       "      <th>sig_len_sum</th>\n",
       "    </tr>\n",
       "  </thead>\n",
       "  <tbody>\n",
       "    <tr>\n",
       "      <th>0</th>\n",
       "      <td>meow_fs_68.wav</td>\n",
       "      <td>NaN</td>\n",
       "      <td>NaN</td>\n",
       "      <td>NaN</td>\n",
       "      <td>NaN</td>\n",
       "      <td>NaN</td>\n",
       "      <td>NaN</td>\n",
       "      <td>NaN</td>\n",
       "      <td>NaN</td>\n",
       "      <td>NaN</td>\n",
       "      <td>NaN</td>\n",
       "      <td>NaN</td>\n",
       "      <td>NaN</td>\n",
       "    </tr>\n",
       "    <tr>\n",
       "      <th>1</th>\n",
       "      <td>meow_fs_69.wav</td>\n",
       "      <td>NaN</td>\n",
       "      <td>NaN</td>\n",
       "      <td>NaN</td>\n",
       "      <td>NaN</td>\n",
       "      <td>NaN</td>\n",
       "      <td>NaN</td>\n",
       "      <td>NaN</td>\n",
       "      <td>NaN</td>\n",
       "      <td>NaN</td>\n",
       "      <td>NaN</td>\n",
       "      <td>NaN</td>\n",
       "      <td>NaN</td>\n",
       "    </tr>\n",
       "    <tr>\n",
       "      <th>2</th>\n",
       "      <td>meow_fs_70.wav</td>\n",
       "      <td>NaN</td>\n",
       "      <td>NaN</td>\n",
       "      <td>NaN</td>\n",
       "      <td>NaN</td>\n",
       "      <td>NaN</td>\n",
       "      <td>NaN</td>\n",
       "      <td>NaN</td>\n",
       "      <td>NaN</td>\n",
       "      <td>NaN</td>\n",
       "      <td>NaN</td>\n",
       "      <td>NaN</td>\n",
       "      <td>NaN</td>\n",
       "    </tr>\n",
       "    <tr>\n",
       "      <th>3</th>\n",
       "      <td>meow_fs_71.wav</td>\n",
       "      <td>NaN</td>\n",
       "      <td>NaN</td>\n",
       "      <td>NaN</td>\n",
       "      <td>NaN</td>\n",
       "      <td>NaN</td>\n",
       "      <td>NaN</td>\n",
       "      <td>NaN</td>\n",
       "      <td>NaN</td>\n",
       "      <td>NaN</td>\n",
       "      <td>NaN</td>\n",
       "      <td>NaN</td>\n",
       "      <td>NaN</td>\n",
       "    </tr>\n",
       "  </tbody>\n",
       "</table>\n",
       "</div>"
      ],
      "text/plain": [
       "         filename meow purr hiss other background discard duration  \\\n",
       "0  meow_fs_68.wav  NaN  NaN  NaN   NaN        NaN     NaN      NaN   \n",
       "1  meow_fs_69.wav  NaN  NaN  NaN   NaN        NaN     NaN      NaN   \n",
       "2  meow_fs_70.wav  NaN  NaN  NaN   NaN        NaN     NaN      NaN   \n",
       "3  meow_fs_71.wav  NaN  NaN  NaN   NaN        NaN     NaN      NaN   \n",
       "\n",
       "  active_region   sr sig_len num_sig sig_len_sum  \n",
       "0           NaN  NaN     NaN     NaN         NaN  \n",
       "1           NaN  NaN     NaN     NaN         NaN  \n",
       "2           NaN  NaN     NaN     NaN         NaN  \n",
       "3           NaN  NaN     NaN     NaN         NaN  "
      ]
     },
     "execution_count": 444,
     "metadata": {},
     "output_type": "execute_result"
    }
   ],
   "source": [
    "df2"
   ]
  },
  {
   "cell_type": "code",
   "execution_count": 447,
   "metadata": {
    "collapsed": false
   },
   "outputs": [],
   "source": [
    "df2['meow'] = map(lambda _: True, range(4))\n",
    "df2[['hiss','other','background','discard']] = map(lambda _: False, range(4))"
   ]
  },
  {
   "cell_type": "code",
   "execution_count": 449,
   "metadata": {
    "collapsed": false
   },
   "outputs": [],
   "source": [
    "df2['purr']=[False,True,True,True]"
   ]
  },
  {
   "cell_type": "code",
   "execution_count": 451,
   "metadata": {
    "collapsed": false
   },
   "outputs": [
    {
     "name": "stderr",
     "output_type": "stream",
     "text": [
      "/usr/local/lib/python2.7/dist-packages/ipykernel/__main__.py:12: VisibleDeprecationWarning: using a non-integer number instead of an integer will result in an error in the future\n",
      "/usr/local/lib/python2.7/dist-packages/ipykernel/__main__.py:64: VisibleDeprecationWarning: using a non-integer number instead of an integer will result in an error in the future\n"
     ]
    }
   ],
   "source": [
    "df2['active_region'], df2['sr'], df2['duration'] = post2df(df2)"
   ]
  },
  {
   "cell_type": "code",
   "execution_count": 452,
   "metadata": {
    "collapsed": false
   },
   "outputs": [
    {
     "data": {
      "text/html": [
       "<div>\n",
       "<table border=\"1\" class=\"dataframe\">\n",
       "  <thead>\n",
       "    <tr style=\"text-align: right;\">\n",
       "      <th></th>\n",
       "      <th>filename</th>\n",
       "      <th>meow</th>\n",
       "      <th>purr</th>\n",
       "      <th>hiss</th>\n",
       "      <th>other</th>\n",
       "      <th>background</th>\n",
       "      <th>discard</th>\n",
       "      <th>duration</th>\n",
       "      <th>active_region</th>\n",
       "      <th>sr</th>\n",
       "      <th>sig_len</th>\n",
       "      <th>num_sig</th>\n",
       "      <th>sig_len_sum</th>\n",
       "    </tr>\n",
       "  </thead>\n",
       "  <tbody>\n",
       "    <tr>\n",
       "      <th>0</th>\n",
       "      <td>meow_fs_68.wav</td>\n",
       "      <td>True</td>\n",
       "      <td>False</td>\n",
       "      <td>False</td>\n",
       "      <td>False</td>\n",
       "      <td>False</td>\n",
       "      <td>False</td>\n",
       "      <td>18.898549</td>\n",
       "      <td>[(30870.0, 52920.0), (74970.0, 88200.0), (1014...</td>\n",
       "      <td>22050</td>\n",
       "      <td>NaN</td>\n",
       "      <td>NaN</td>\n",
       "      <td>NaN</td>\n",
       "    </tr>\n",
       "    <tr>\n",
       "      <th>1</th>\n",
       "      <td>meow_fs_69.wav</td>\n",
       "      <td>True</td>\n",
       "      <td>True</td>\n",
       "      <td>False</td>\n",
       "      <td>False</td>\n",
       "      <td>False</td>\n",
       "      <td>False</td>\n",
       "      <td>232.675193</td>\n",
       "      <td>[(8820.0, 30870.0), (105840.0, 114660.0), (167...</td>\n",
       "      <td>22050</td>\n",
       "      <td>NaN</td>\n",
       "      <td>NaN</td>\n",
       "      <td>NaN</td>\n",
       "    </tr>\n",
       "    <tr>\n",
       "      <th>2</th>\n",
       "      <td>meow_fs_70.wav</td>\n",
       "      <td>True</td>\n",
       "      <td>True</td>\n",
       "      <td>False</td>\n",
       "      <td>False</td>\n",
       "      <td>False</td>\n",
       "      <td>False</td>\n",
       "      <td>31.114739</td>\n",
       "      <td>[(13230.0, 26460.0), (30870.0, 52920.0), (7056...</td>\n",
       "      <td>22050</td>\n",
       "      <td>NaN</td>\n",
       "      <td>NaN</td>\n",
       "      <td>NaN</td>\n",
       "    </tr>\n",
       "    <tr>\n",
       "      <th>3</th>\n",
       "      <td>meow_fs_71.wav</td>\n",
       "      <td>True</td>\n",
       "      <td>True</td>\n",
       "      <td>False</td>\n",
       "      <td>False</td>\n",
       "      <td>False</td>\n",
       "      <td>False</td>\n",
       "      <td>232.675193</td>\n",
       "      <td>[(8820.0, 30870.0), (105840.0, 114660.0), (167...</td>\n",
       "      <td>22050</td>\n",
       "      <td>NaN</td>\n",
       "      <td>NaN</td>\n",
       "      <td>NaN</td>\n",
       "    </tr>\n",
       "  </tbody>\n",
       "</table>\n",
       "</div>"
      ],
      "text/plain": [
       "         filename  meow   purr   hiss  other background discard    duration  \\\n",
       "0  meow_fs_68.wav  True  False  False  False      False   False   18.898549   \n",
       "1  meow_fs_69.wav  True   True  False  False      False   False  232.675193   \n",
       "2  meow_fs_70.wav  True   True  False  False      False   False   31.114739   \n",
       "3  meow_fs_71.wav  True   True  False  False      False   False  232.675193   \n",
       "\n",
       "                                       active_region     sr sig_len num_sig  \\\n",
       "0  [(30870.0, 52920.0), (74970.0, 88200.0), (1014...  22050     NaN     NaN   \n",
       "1  [(8820.0, 30870.0), (105840.0, 114660.0), (167...  22050     NaN     NaN   \n",
       "2  [(13230.0, 26460.0), (30870.0, 52920.0), (7056...  22050     NaN     NaN   \n",
       "3  [(8820.0, 30870.0), (105840.0, 114660.0), (167...  22050     NaN     NaN   \n",
       "\n",
       "  sig_len_sum  \n",
       "0         NaN  \n",
       "1         NaN  \n",
       "2         NaN  \n",
       "3         NaN  "
      ]
     },
     "execution_count": 452,
     "metadata": {},
     "output_type": "execute_result"
    }
   ],
   "source": [
    "df2"
   ]
  },
  {
   "cell_type": "code",
   "execution_count": 453,
   "metadata": {
    "collapsed": false
   },
   "outputs": [
    {
     "data": {
      "text/plain": [
       "array([True, False], dtype=object)"
      ]
     },
     "execution_count": 453,
     "metadata": {},
     "output_type": "execute_result"
    }
   ],
   "source": [
    "df['meow'].unique()"
   ]
  },
  {
   "cell_type": "code",
   "execution_count": 455,
   "metadata": {
    "collapsed": false
   },
   "outputs": [],
   "source": [
    "df2['sig_len'] = df2['active_region'].apply(lambda y: np.array(map(lambda x: x[1]-x[0],y)))/df['sr']\n",
    "df2['num_sig'] = df2['sig_len'].apply(lambda x: len(x))\n",
    "df2['sig_len_sum'] = df2['sig_len'].apply(lambda x: sum(x))"
   ]
  },
  {
   "cell_type": "code",
   "execution_count": 456,
   "metadata": {
    "collapsed": false
   },
   "outputs": [
    {
     "data": {
      "text/html": [
       "<div>\n",
       "<table border=\"1\" class=\"dataframe\">\n",
       "  <thead>\n",
       "    <tr style=\"text-align: right;\">\n",
       "      <th></th>\n",
       "      <th>filename</th>\n",
       "      <th>meow</th>\n",
       "      <th>purr</th>\n",
       "      <th>hiss</th>\n",
       "      <th>other</th>\n",
       "      <th>background</th>\n",
       "      <th>discard</th>\n",
       "      <th>duration</th>\n",
       "      <th>active_region</th>\n",
       "      <th>sr</th>\n",
       "      <th>sig_len</th>\n",
       "      <th>num_sig</th>\n",
       "      <th>sig_len_sum</th>\n",
       "    </tr>\n",
       "  </thead>\n",
       "  <tbody>\n",
       "    <tr>\n",
       "      <th>0</th>\n",
       "      <td>meow_fs_68.wav</td>\n",
       "      <td>True</td>\n",
       "      <td>False</td>\n",
       "      <td>False</td>\n",
       "      <td>False</td>\n",
       "      <td>False</td>\n",
       "      <td>False</td>\n",
       "      <td>18.898549</td>\n",
       "      <td>[(30870.0, 52920.0), (74970.0, 88200.0), (1014...</td>\n",
       "      <td>22050</td>\n",
       "      <td>[1.0, 0.6, 0.8, 0.8, 0.8, 0.2, 1.0, 0.2, 0.6, ...</td>\n",
       "      <td>14</td>\n",
       "      <td>10.8</td>\n",
       "    </tr>\n",
       "    <tr>\n",
       "      <th>1</th>\n",
       "      <td>meow_fs_69.wav</td>\n",
       "      <td>True</td>\n",
       "      <td>True</td>\n",
       "      <td>False</td>\n",
       "      <td>False</td>\n",
       "      <td>False</td>\n",
       "      <td>False</td>\n",
       "      <td>232.675193</td>\n",
       "      <td>[(8820.0, 30870.0), (105840.0, 114660.0), (167...</td>\n",
       "      <td>22050</td>\n",
       "      <td>[1.0, 0.4, 0.4, 0.6, 0.4, 1.0, 1.0, 0.4, 1.4, ...</td>\n",
       "      <td>105</td>\n",
       "      <td>80.4</td>\n",
       "    </tr>\n",
       "    <tr>\n",
       "      <th>2</th>\n",
       "      <td>meow_fs_70.wav</td>\n",
       "      <td>True</td>\n",
       "      <td>True</td>\n",
       "      <td>False</td>\n",
       "      <td>False</td>\n",
       "      <td>False</td>\n",
       "      <td>False</td>\n",
       "      <td>31.114739</td>\n",
       "      <td>[(13230.0, 26460.0), (30870.0, 52920.0), (7056...</td>\n",
       "      <td>22050</td>\n",
       "      <td>[0.6, 1.0, 0.4, 4.4, 2.0, 10.2, 2.2, 0.6, 2.2,...</td>\n",
       "      <td>10</td>\n",
       "      <td>25.4</td>\n",
       "    </tr>\n",
       "    <tr>\n",
       "      <th>3</th>\n",
       "      <td>meow_fs_71.wav</td>\n",
       "      <td>True</td>\n",
       "      <td>True</td>\n",
       "      <td>False</td>\n",
       "      <td>False</td>\n",
       "      <td>False</td>\n",
       "      <td>False</td>\n",
       "      <td>232.675193</td>\n",
       "      <td>[(8820.0, 30870.0), (105840.0, 114660.0), (167...</td>\n",
       "      <td>22050</td>\n",
       "      <td>[1.0, 0.4, 0.4, 0.6, 0.4, 1.0, 1.0, 0.4, 1.4, ...</td>\n",
       "      <td>105</td>\n",
       "      <td>80.4</td>\n",
       "    </tr>\n",
       "  </tbody>\n",
       "</table>\n",
       "</div>"
      ],
      "text/plain": [
       "         filename  meow   purr   hiss  other background discard    duration  \\\n",
       "0  meow_fs_68.wav  True  False  False  False      False   False   18.898549   \n",
       "1  meow_fs_69.wav  True   True  False  False      False   False  232.675193   \n",
       "2  meow_fs_70.wav  True   True  False  False      False   False   31.114739   \n",
       "3  meow_fs_71.wav  True   True  False  False      False   False  232.675193   \n",
       "\n",
       "                                       active_region     sr  \\\n",
       "0  [(30870.0, 52920.0), (74970.0, 88200.0), (1014...  22050   \n",
       "1  [(8820.0, 30870.0), (105840.0, 114660.0), (167...  22050   \n",
       "2  [(13230.0, 26460.0), (30870.0, 52920.0), (7056...  22050   \n",
       "3  [(8820.0, 30870.0), (105840.0, 114660.0), (167...  22050   \n",
       "\n",
       "                                             sig_len  num_sig  sig_len_sum  \n",
       "0  [1.0, 0.6, 0.8, 0.8, 0.8, 0.2, 1.0, 0.2, 0.6, ...       14         10.8  \n",
       "1  [1.0, 0.4, 0.4, 0.6, 0.4, 1.0, 1.0, 0.4, 1.4, ...      105         80.4  \n",
       "2  [0.6, 1.0, 0.4, 4.4, 2.0, 10.2, 2.2, 0.6, 2.2,...       10         25.4  \n",
       "3  [1.0, 0.4, 0.4, 0.6, 0.4, 1.0, 1.0, 0.4, 1.4, ...      105         80.4  "
      ]
     },
     "execution_count": 456,
     "metadata": {},
     "output_type": "execute_result"
    }
   ],
   "source": [
    "df2"
   ]
  },
  {
   "cell_type": "code",
   "execution_count": 459,
   "metadata": {
    "collapsed": false
   },
   "outputs": [],
   "source": [
    "dfc = df.copy()"
   ]
  },
  {
   "cell_type": "code",
   "execution_count": 462,
   "metadata": {
    "collapsed": false
   },
   "outputs": [
    {
     "data": {
      "text/plain": [
       "array([ 0,  1,  2,  3,  4,  5,  6,  7,  8,  9, 10, 11, 12, 13, 14, 18, 20,\n",
       "       21, 22, 25, 27, 32, 33, 34, 35, 36, 37, 38, 39, 40, 41, 42, 43, 44,\n",
       "       45, 46, 47, 48, 49, 51, 52, 55, 57, 58, 61, 62, 63, 64, 65, 66, 67,\n",
       "       68, 69, 70, 71, 72, 73, 75, 77, 78, 79, 80, 82, 83, 84, 85, 86, 88,\n",
       "       89, 90, 92, 93, 94, 95, 96, 97])"
      ]
     },
     "execution_count": 462,
     "metadata": {},
     "output_type": "execute_result"
    }
   ],
   "source": [
    "dfc.index.values"
   ]
  },
  {
   "cell_type": "code",
   "execution_count": 463,
   "metadata": {
    "collapsed": false
   },
   "outputs": [
    {
     "data": {
      "text/plain": [
       "array([ 0,  1,  2,  3,  4,  5,  6,  7,  8,  9, 10, 11, 12, 13, 14, 18, 20,\n",
       "       21, 22, 25, 27, 32, 33, 34, 35, 36, 37, 38, 39, 40, 41, 42, 43, 44,\n",
       "       45, 46, 47, 48, 49, 51, 52, 55, 57, 58, 61, 62, 63, 64, 65, 66, 67,\n",
       "       68, 69, 70, 71, 72, 73, 75, 77, 78, 79, 80, 82, 83, 84, 85, 86, 88,\n",
       "       89, 90, 92, 93, 94, 95, 96, 97])"
      ]
     },
     "execution_count": 463,
     "metadata": {},
     "output_type": "execute_result"
    }
   ],
   "source": [
    "df.index.values"
   ]
  },
  {
   "cell_type": "code",
   "execution_count": 464,
   "metadata": {
    "collapsed": false
   },
   "outputs": [],
   "source": [
    "newdf = df.append(df2,ignore_index=True)"
   ]
  },
  {
   "cell_type": "code",
   "execution_count": 465,
   "metadata": {
    "collapsed": false
   },
   "outputs": [
    {
     "data": {
      "text/plain": [
       "array([ 0,  1,  2,  3,  4,  5,  6,  7,  8,  9, 10, 11, 12, 13, 14, 15, 16,\n",
       "       17, 18, 19, 20, 21, 22, 23, 24, 25, 26, 27, 28, 29, 30, 31, 32, 33,\n",
       "       34, 35, 36, 37, 38, 39, 40, 41, 42, 43, 44, 45, 46, 47, 48, 49, 50,\n",
       "       51, 52, 53, 54, 55, 56, 57, 58, 59, 60, 61, 62, 63, 64, 65, 66, 67,\n",
       "       68, 69, 70, 71, 72, 73, 74, 75, 76, 77, 78, 79])"
      ]
     },
     "execution_count": 465,
     "metadata": {},
     "output_type": "execute_result"
    }
   ],
   "source": [
    "newdf.index.values"
   ]
  },
  {
   "cell_type": "code",
   "execution_count": 476,
   "metadata": {
    "collapsed": true
   },
   "outputs": [],
   "source": [
    "with open('cat_slice_df_final.pkl','w') as f:\n",
    "    pickle.dump(newdf,f)"
   ]
  },
  {
   "cell_type": "code",
   "execution_count": 474,
   "metadata": {
    "collapsed": false
   },
   "outputs": [
    {
     "data": {
      "text/plain": [
       "46.160453514739224"
      ]
     },
     "execution_count": 474,
     "metadata": {},
     "output_type": "execute_result"
    }
   ],
   "source": [
    "newdf[(newdf['purr']==False)&(newdf['meow']==False)]['sig_len_sum'].sum()"
   ]
  },
  {
   "cell_type": "code",
   "execution_count": 475,
   "metadata": {
    "collapsed": false
   },
   "outputs": [
    {
     "data": {
      "text/plain": [
       "896.63463236961456"
      ]
     },
     "execution_count": 475,
     "metadata": {},
     "output_type": "execute_result"
    }
   ],
   "source": [
    "newdf['sig_len_sum'].sum()"
   ]
  },
  {
   "cell_type": "code",
   "execution_count": null,
   "metadata": {
    "collapsed": true
   },
   "outputs": [],
   "source": []
  }
 ],
 "metadata": {
  "kernelspec": {
   "display_name": "Python 2",
   "language": "python",
   "name": "python2"
  },
  "language_info": {
   "codemirror_mode": {
    "name": "ipython",
    "version": 2
   },
   "file_extension": ".py",
   "mimetype": "text/x-python",
   "name": "python",
   "nbconvert_exporter": "python",
   "pygments_lexer": "ipython2",
   "version": "2.7.6"
  }
 },
 "nbformat": 4,
 "nbformat_minor": 0
}
